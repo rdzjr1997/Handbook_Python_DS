{
 "cells": [
  {
   "cell_type": "markdown",
   "metadata": {},
   "source": []
  },
  {
   "cell_type": "markdown",
   "metadata": {},
   "source": [
    "# Python Data Science Handbook\n",
    "## Author: VanderPlas, Jacob T\n",
    "\n",
    "Utilizing this book as a guide for some Python libraries\n"
   ]
  },
  {
   "cell_type": "code",
   "execution_count": 3,
   "metadata": {},
   "outputs": [
    {
     "name": "stdout",
     "output_type": "stream",
     "text": [
      "<class 'numpy.int64'>\n",
      "<class 'numpy.float64'>\n"
     ]
    },
    {
     "data": {
      "text/plain": [
       "array([[2, 3, 4],\n",
       "       [4, 5, 6],\n",
       "       [6, 7, 8]])"
      ]
     },
     "execution_count": 3,
     "metadata": {},
     "output_type": "execute_result"
    }
   ],
   "source": [
    "# Creating Arrays from list\n",
    "\n",
    "import numpy as np\n",
    "\n",
    "a = np.array([1,4,2,5,3]) # Int\n",
    "\n",
    "b = np.array([3.14,4,2,3])\n",
    "\n",
    "print(type(a[1]))\n",
    "print(type(b[1]))\n",
    "\n",
    "# Nested lists for multidimensional array\n",
    "n = np.array([range(i,i+3) for i in [2,4,6]])\n",
    "\n",
    "n"
   ]
  },
  {
   "cell_type": "code",
   "execution_count": 4,
   "metadata": {},
   "outputs": [
    {
     "name": "stdout",
     "output_type": "stream",
     "text": [
      "[[1. 0. 0.]\n",
      " [0. 1. 0.]\n",
      " [0. 0. 1.]]\n"
     ]
    }
   ],
   "source": [
    "# Creating Arrays from Scratch\n",
    "\n",
    "# Array filled with zeros\n",
    "a = np.zeros(10, dtype=int)\n",
    "\n",
    "# A 3x5 floating-point array filled with 1s\n",
    "b = np.ones((3,5), dtype=float)\n",
    "\n",
    "# Array filled with a linear sequence\n",
    "c = np.arange(0,20,2)\n",
    "\n",
    "# Array of five values evenly spaced\n",
    "d = np.linspace(0,1,5)\n",
    "\n",
    "# A 3x3 array of uniformly distributed random values \n",
    "# between 0 and 1\n",
    "e = np.random.random((3,3))\n",
    "\n",
    "# A 3x3 array of normally distributed random values\n",
    "# with mean 0 and standard deviation 1\n",
    "f = np.random.normal(0,1,(3,3))\n",
    "\n",
    "# A 3x3 identity matrix\n",
    "g = np.eye(3)\n",
    "\n",
    "\n",
    "print(g)"
   ]
  },
  {
   "cell_type": "code",
   "execution_count": 5,
   "metadata": {},
   "outputs": [
    {
     "name": "stdout",
     "output_type": "stream",
     "text": [
      "x3 ndim: 3\n",
      "x3 shape: (3, 4, 5)\n",
      "x3 size: 60\n",
      "dtype: int64\n",
      "itemsize: 8 bytes\n",
      "nbytes: 480 bytes\n"
     ]
    }
   ],
   "source": [
    "# NumPy Array Attributes\n",
    "\n",
    "# seed used for reproducibility of the data\n",
    "np.random.seed(0)\n",
    "\n",
    "# One-dimensional array\n",
    "x1 = np.random.randint(10, size = 6)\n",
    "\n",
    "# Two-dimensional array\n",
    "x2 = np.random.randint(10, size = (3,4))\n",
    "\n",
    "# Three-dimensional array\n",
    "x3 = np.random.randint(10, size = (3,4,5))\n",
    "\n",
    "print(\"x3 ndim:\",x3.ndim)       # Dimension of the array\n",
    "print(\"x3 shape:\",x3.shape)     # Size of each dimension\n",
    "print(\"x3 size:\",x3.size)       # Total size of the array\n",
    "\n",
    "# Obtaing the data type of the array\n",
    "print(\"dtype:\",x3.dtype)\n",
    "\n",
    "# Size, in bytes, of each array element\n",
    "print(\"itemsize:\",x3.itemsize,\"bytes\")\n",
    "\n",
    "# Size, in bytes, of the total array\n",
    "print(\"nbytes:\",x3.nbytes,\"bytes\")\n"
   ]
  },
  {
   "cell_type": "code",
   "execution_count": 23,
   "metadata": {},
   "outputs": [
    {
     "name": "stdout",
     "output_type": "stream",
     "text": [
      "9\n",
      "7\n",
      "3\n",
      "1\n",
      "12\n"
     ]
    }
   ],
   "source": [
    "# Array Indexing\n",
    "\n",
    "# Negative indices index from the end of the array\n",
    "print(x1[-1])\n",
    "print(x1[-2])\n",
    "\n",
    "# Accesssing multidimensional array using comma-separated\n",
    "# tuple of indices\n",
    "print(x2[0,0])\n",
    "print(x2[2,0])\n",
    "\n",
    "# Modifying values\n",
    "x2[0,0] = 12\n",
    "print(x2[0,0])\n",
    "\n",
    "# OBS: Numpy arrays and Python lists are different\n",
    "# NumPy arrays have a fixed type\n",
    "# That means all components of the array will be of\n",
    "# the same datatype\n"
   ]
  }
 ],
 "metadata": {
  "kernelspec": {
   "display_name": "Python 3.10.4 ('Handbook_Python_DS')",
   "language": "python",
   "name": "python3"
  },
  "language_info": {
   "codemirror_mode": {
    "name": "ipython",
    "version": 3
   },
   "file_extension": ".py",
   "mimetype": "text/x-python",
   "name": "python",
   "nbconvert_exporter": "python",
   "pygments_lexer": "ipython3",
   "version": "3.10.4"
  },
  "orig_nbformat": 4,
  "vscode": {
   "interpreter": {
    "hash": "d43d953e0acd0cedb1a9b7948f708072a1c3cac0cb47fa29a39ad05b51d390d4"
   }
  }
 },
 "nbformat": 4,
 "nbformat_minor": 2
}
