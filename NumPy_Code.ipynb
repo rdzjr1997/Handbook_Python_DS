{
 "cells": [
  {
   "cell_type": "markdown",
   "metadata": {},
   "source": [
    "# Python Data Science Handbook\n",
    "## Author: VanderPlas, Jacob T"
   ]
  },
  {
   "cell_type": "markdown",
   "metadata": {},
   "source": [
    "#### Creating Arrays from list"
   ]
  },
  {
   "cell_type": "code",
   "execution_count": 1,
   "metadata": {},
   "outputs": [
    {
     "name": "stdout",
     "output_type": "stream",
     "text": [
      "<class 'numpy.int64'>\n",
      "<class 'numpy.float64'>\n"
     ]
    },
    {
     "data": {
      "text/plain": [
       "array([[2, 3, 4],\n",
       "       [4, 5, 6],\n",
       "       [6, 7, 8]])"
      ]
     },
     "execution_count": 1,
     "metadata": {},
     "output_type": "execute_result"
    }
   ],
   "source": [
    "import numpy as np\n",
    "\n",
    "a = np.array([1,4,2,5,3]) # Int\n",
    "\n",
    "b = np.array([3.14,4,2,3])\n",
    "\n",
    "print(type(a[1]))\n",
    "print(type(b[1]))\n",
    "\n",
    "# Nested lists for multidimensional array\n",
    "n = np.array([range(i,i+3) for i in [2,4,6]])\n",
    "\n",
    "n"
   ]
  },
  {
   "cell_type": "markdown",
   "metadata": {},
   "source": [
    "#### Creating Arrays from Scratch"
   ]
  },
  {
   "cell_type": "code",
   "execution_count": 2,
   "metadata": {},
   "outputs": [
    {
     "name": "stdout",
     "output_type": "stream",
     "text": [
      "[[1. 0. 0.]\n",
      " [0. 1. 0.]\n",
      " [0. 0. 1.]]\n"
     ]
    }
   ],
   "source": [
    "# Array filled with zeros\n",
    "a = np.zeros(10, dtype=int)\n",
    "\n",
    "# A 3x5 floating-point array filled with 1s\n",
    "b = np.ones((3,5), dtype=float)\n",
    "\n",
    "# Array filled with a linear sequence\n",
    "c = np.arange(0,20,2)\n",
    "\n",
    "# Array of five values evenly spaced\n",
    "d = np.linspace(0,1,5)\n",
    "\n",
    "# A 3x3 array of uniformly distributed random values \n",
    "# between 0 and 1\n",
    "e = np.random.random((3,3))\n",
    "\n",
    "# A 3x3 array of normally distributed random values\n",
    "# with mean 0 and standard deviation 1\n",
    "f = np.random.normal(0,1,(3,3))\n",
    "\n",
    "# A 3x3 identity matrix\n",
    "g = np.eye(3)\n",
    "\n",
    "\n",
    "print(g)"
   ]
  },
  {
   "cell_type": "markdown",
   "metadata": {},
   "source": [
    "#### NumPy Array Attributes"
   ]
  },
  {
   "cell_type": "code",
   "execution_count": 3,
   "metadata": {},
   "outputs": [
    {
     "name": "stdout",
     "output_type": "stream",
     "text": [
      "x3 ndim: 3\n",
      "x3 shape: (3, 4, 5)\n",
      "x3 size: 60\n",
      "dtype: int64\n",
      "itemsize: 8 bytes\n",
      "nbytes: 480 bytes\n"
     ]
    }
   ],
   "source": [
    "# seed used for reproducibility of the data\n",
    "np.random.seed(0)\n",
    "\n",
    "# One-dimensional array\n",
    "x1 = np.random.randint(10, size = 6)\n",
    "\n",
    "# Two-dimensional array\n",
    "x2 = np.random.randint(10, size = (3,4))\n",
    "\n",
    "# Three-dimensional array\n",
    "x3 = np.random.randint(10, size = (3,4,5))\n",
    "\n",
    "print(\"x3 ndim:\",x3.ndim)       # Dimension of the array\n",
    "print(\"x3 shape:\",x3.shape)     # Size of each dimension\n",
    "print(\"x3 size:\",x3.size)       # Total size of the array\n",
    "\n",
    "# Obtaing the data type of the array\n",
    "print(\"dtype:\",x3.dtype)\n",
    "\n",
    "# Size, in bytes, of each array element\n",
    "print(\"itemsize:\",x3.itemsize,\"bytes\")\n",
    "\n",
    "# Size, in bytes, of the total array\n",
    "print(\"nbytes:\",x3.nbytes,\"bytes\")"
   ]
  },
  {
   "cell_type": "markdown",
   "metadata": {},
   "source": [
    "#### Array Indexing"
   ]
  },
  {
   "cell_type": "code",
   "execution_count": 10,
   "metadata": {},
   "outputs": [
    {
     "name": "stdout",
     "output_type": "stream",
     "text": [
      "9\n",
      "7\n",
      "3\n",
      "1\n",
      "12\n"
     ]
    }
   ],
   "source": [
    "# Negative indices index from the end of the array\n",
    "print(x1[-1])\n",
    "print(x1[-2])\n",
    "\n",
    "# Accesssing multidimensional array using comma-separated\n",
    "# tuple of indices\n",
    "print(x2[0,0])\n",
    "print(x2[2,0])\n",
    "\n",
    "# Modifying values\n",
    "x2[0,0] = 12\n",
    "print(x2[0,0])"
   ]
  },
  {
   "cell_type": "markdown",
   "metadata": {},
   "source": [
    "OBS: Numpy arrays and Python lists are different\n",
    "\n",
    "NumPy arrays have a fixed type\n",
    "\n",
    "That means all components of the array will be ofthe same datatype"
   ]
  },
  {
   "cell_type": "markdown",
   "metadata": {},
   "source": [
    "#### Array Slicing"
   ]
  },
  {
   "cell_type": "code",
   "execution_count": 17,
   "metadata": {},
   "outputs": [
    {
     "name": "stdout",
     "output_type": "stream",
     "text": [
      "[0 1 2 3 4 5 6 7 8 9]\n",
      "[0 1 2 3 4]\n",
      "[5 6 7 8 9]\n",
      "[4 5 6]\n",
      "[0 2 4 6 8]\n",
      "[9 8 7 6 5 4 3 2 1 0]\n",
      "[[12  5  2  4]\n",
      " [ 7  6  8  8]\n",
      " [ 1  6  7  7]]\n",
      "[[12  5  2]\n",
      " [ 7  6  8]]\n",
      "[[ 7  7  6  1]\n",
      " [ 8  8  6  7]\n",
      " [ 4  2  5 12]]\n",
      "[12  7  1]\n",
      "[[12  5]\n",
      " [ 7  6]]\n",
      "[[42  5]\n",
      " [ 7  6]]\n"
     ]
    }
   ],
   "source": [
    "x = np.arange(10)\n",
    "print(x)\n",
    "\n",
    "# First five elements\n",
    "print(x[:5])\n",
    "\n",
    "# Elements after index 5\n",
    "print(x[5:])\n",
    "\n",
    "# Middle subarray\n",
    "print(x[4:7])\n",
    "\n",
    "# Elements with step 2\n",
    "print(x[::2])\n",
    "\n",
    "# All elements in reverser order\n",
    "print(x[::-1])\n",
    "\n",
    "# MULTIDIMENSIONAL SUBARRAYS\n",
    "print(x2)\n",
    "\n",
    "# Two rows, three columns\n",
    "print(x2[:2, :3])\n",
    "\n",
    "# Reversion\n",
    "print(x2[::-1, ::-1])\n",
    "\n",
    "# Arrays rows and columns\n",
    "print(x2[:,0]) # First column of x2\n",
    "\n",
    "# Creating copies of arrays\n",
    "x2_sub_copy = x2[:2, :2].copy()\n",
    "print(x2_sub_copy)\n",
    "\n",
    "# Modifying the subarray will not change the original array:\n",
    "x2_sub_copy[0, 0] = 42\n",
    "print(x2_sub_copy)"
   ]
  },
  {
   "cell_type": "markdown",
   "metadata": {},
   "source": [
    "#### Reshaping of Arrays"
   ]
  },
  {
   "cell_type": "code",
   "execution_count": 4,
   "metadata": {},
   "outputs": [
    {
     "name": "stdout",
     "output_type": "stream",
     "text": [
      "[[1 2 3]\n",
      " [4 5 6]\n",
      " [7 8 9]]\n",
      "[[1 2 3]]\n",
      "[[1 2 3]]\n"
     ]
    }
   ],
   "source": [
    "grid = np.arange(1, 10).reshape(3,3)\n",
    "print(grid)\n",
    "\n",
    "x = np.array([1,2,3])\n",
    "\n",
    "# Row vector via reshape\n",
    "print(x.reshape(1,3))\n",
    "\n",
    "# Row vector via newaxis\n",
    "print(x[np.newaxis,:])"
   ]
  },
  {
   "cell_type": "markdown",
   "metadata": {},
   "source": [
    "#### Array Concatenation and Splitting"
   ]
  },
  {
   "cell_type": "code",
   "execution_count": 5,
   "metadata": {},
   "outputs": [
    {
     "name": "stdout",
     "output_type": "stream",
     "text": [
      "[1 2 3 3 2 1]\n",
      "[ 1  2  3  3  2  1 99 99 99]\n",
      "[[1 2 3]\n",
      " [4 5 6]\n",
      " [1 2 3]\n",
      " [4 5 6]]\n",
      "[[1 2 3 1 2 3]\n",
      " [4 5 6 4 5 6]]\n",
      "[[1 2 3]\n",
      " [9 8 7]\n",
      " [6 5 4]]\n",
      "[[ 9  8  7 99]\n",
      " [ 6  5  4 99]]\n",
      "[1 2 3] [99 99] [3 2 1]\n",
      "[[0 1 2 3]\n",
      " [4 5 6 7]]\n",
      "[[ 8  9 10 11]\n",
      " [12 13 14 15]]\n",
      "[[ 0  1]\n",
      " [ 4  5]\n",
      " [ 8  9]\n",
      " [12 13]]\n",
      "[[ 2  3]\n",
      " [ 6  7]\n",
      " [10 11]\n",
      " [14 15]]\n"
     ]
    }
   ],
   "source": [
    "from ast import YieldFrom\n",
    "\n",
    "x = np.array([1,2,3])\n",
    "y = np.array([3,2,1])\n",
    "print(np.concatenate([x,y]))\n",
    "\n",
    "z = [99,99,99]\n",
    "print(np.concatenate([x,y,z]))\n",
    "\n",
    "# Two-dimensional array:\n",
    "grid = np.array([[1,2,3],\n",
    "                 [4,5,6]])\n",
    "print(np.concatenate([grid,grid]))\n",
    "\n",
    "# Concatenate along the second axis\n",
    "print(np.concatenate([grid,grid], axis=1))\n",
    "\n",
    "# Stacking of arrays\n",
    "x = np.array([1,2,3])\n",
    "y = np.array([[99],\n",
    "              [99]])\n",
    "\n",
    "grid = np.array([[9,8,7],\n",
    "                 [6,5,4]])\n",
    "\n",
    "# Vertically stack\n",
    "print(np.vstack([x,grid]))\n",
    "\n",
    "# Horizontally stack\n",
    "print(np.hstack([grid,y]))\n",
    "\n",
    "# Spliting of arrays\n",
    "x = [1,2,3,99,99,3,2,1]\n",
    "\n",
    "x1,x2,x3 = np.split(x, [3,5])\n",
    "print(x1,  x2,x3) \n",
    "\n",
    "grid = np.arange(16).reshape((4,4))\n",
    "\n",
    "# Vertical splitting\n",
    "upper,lower = np.vsplit(grid,[2])\n",
    "print(upper)\n",
    "print(lower)\n",
    "\n",
    "# Horizontal splitting\n",
    "left,right = np.hsplit(grid,[2])\n",
    "print(left)\n",
    "print(right)"
   ]
  },
  {
   "cell_type": "markdown",
   "metadata": {},
   "source": [
    "#### UFUNCS\n",
    "\n",
    "Used to implement vectorization in NumPy\n",
    "\n",
    "It's a way faster than iterating over elements\n",
    "\n",
    "#### Vectorization\n",
    "\n",
    "Converts iterative statements into a vector based operation"
   ]
  }
 ],
 "metadata": {
  "kernelspec": {
   "display_name": "Python 3.10.4 ('Handbook_Python_DS')",
   "language": "python",
   "name": "python3"
  },
  "language_info": {
   "codemirror_mode": {
    "name": "ipython",
    "version": 3
   },
   "file_extension": ".py",
   "mimetype": "text/x-python",
   "name": "python",
   "nbconvert_exporter": "python",
   "pygments_lexer": "ipython3",
   "version": "3.10.4"
  },
  "orig_nbformat": 4,
  "vscode": {
   "interpreter": {
    "hash": "d43d953e0acd0cedb1a9b7948f708072a1c3cac0cb47fa29a39ad05b51d390d4"
   }
  }
 },
 "nbformat": 4,
 "nbformat_minor": 2
}
