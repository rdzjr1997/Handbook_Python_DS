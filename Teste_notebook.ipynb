{
 "cells": [
  {
   "cell_type": "markdown",
   "metadata": {},
   "source": []
  },
  {
   "cell_type": "markdown",
   "metadata": {},
   "source": [
    "# Python data science handbook\n",
    "## Author: VanderPlas, Jacob T\n",
    "\n",
    "Utilizing this book as a guide for some Python libraries\n"
   ]
  },
  {
   "cell_type": "code",
   "execution_count": 9,
   "metadata": {},
   "outputs": [
    {
     "name": "stdout",
     "output_type": "stream",
     "text": [
      "<class 'numpy.int64'>\n",
      "<class 'numpy.float64'>\n"
     ]
    },
    {
     "data": {
      "text/plain": [
       "array([[2, 3, 4],\n",
       "       [4, 5, 6],\n",
       "       [6, 7, 8]])"
      ]
     },
     "execution_count": 9,
     "metadata": {},
     "output_type": "execute_result"
    }
   ],
   "source": [
    "# Creating Arrays from list\n",
    "\n",
    "import numpy as np\n",
    "\n",
    "a = np.array([1,4,2,5,3]) # Int\n",
    "\n",
    "b = np.array([3.14,4,2,3])\n",
    "\n",
    "print(type(a[1]))\n",
    "print(type(b[1]))\n",
    "\n",
    "# Nested lists for multidimensional array\n",
    "n = np.array([range(i,i+3) for i in [2,4,6]])\n",
    "\n",
    "n"
   ]
  }
 ],
 "metadata": {
  "kernelspec": {
   "display_name": "Python 3.10.4 ('Handbook_Python_DS')",
   "language": "python",
   "name": "python3"
  },
  "language_info": {
   "codemirror_mode": {
    "name": "ipython",
    "version": 3
   },
   "file_extension": ".py",
   "mimetype": "text/x-python",
   "name": "python",
   "nbconvert_exporter": "python",
   "pygments_lexer": "ipython3",
   "version": "3.10.4"
  },
  "orig_nbformat": 4,
  "vscode": {
   "interpreter": {
    "hash": "d43d953e0acd0cedb1a9b7948f708072a1c3cac0cb47fa29a39ad05b51d390d4"
   }
  }
 },
 "nbformat": 4,
 "nbformat_minor": 2
}
