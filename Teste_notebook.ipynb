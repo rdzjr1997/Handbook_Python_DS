{
 "cells": [
  {
   "cell_type": "markdown",
   "metadata": {},
   "source": []
  },
  {
   "cell_type": "markdown",
   "metadata": {},
   "source": [
    "# Python data science handbook\n",
    "## Author: VanderPlas, Jacob T\n",
    "\n",
    "Utilizing this book as a guide for some Python libraries\n"
   ]
  },
  {
   "cell_type": "code",
   "execution_count": 10,
   "metadata": {},
   "outputs": [
    {
     "name": "stdout",
     "output_type": "stream",
     "text": [
      "<class 'numpy.int64'>\n",
      "<class 'numpy.float64'>\n"
     ]
    },
    {
     "data": {
      "text/plain": [
       "array([[2, 3, 4],\n",
       "       [4, 5, 6],\n",
       "       [6, 7, 8]])"
      ]
     },
     "execution_count": 10,
     "metadata": {},
     "output_type": "execute_result"
    }
   ],
   "source": [
    "# Creating Arrays from list\n",
    "\n",
    "import numpy as np\n",
    "\n",
    "a = np.array([1,4,2,5,3]) # Int\n",
    "\n",
    "b = np.array([3.14,4,2,3])\n",
    "\n",
    "print(type(a[1]))\n",
    "print(type(b[1]))\n",
    "\n",
    "# Nested lists for multidimensional array\n",
    "n = np.array([range(i,i+3) for i in [2,4,6]])\n",
    "\n",
    "n"
   ]
  },
  {
   "cell_type": "code",
   "execution_count": 23,
   "metadata": {},
   "outputs": [
    {
     "name": "stdout",
     "output_type": "stream",
     "text": [
      "[[1. 0. 0.]\n",
      " [0. 1. 0.]\n",
      " [0. 0. 1.]]\n"
     ]
    }
   ],
   "source": [
    "# Creating Arrays from Scratch\n",
    "\n",
    "# Array filled with zeros\n",
    "a = np.zeros(10, dtype=int)\n",
    "\n",
    "# A 3x5 floating-point array filled with 1s\n",
    "b = np.ones((3,5), dtype=float)\n",
    "\n",
    "# Array filled with a linear sequence\n",
    "c = np.arange(0,20,2)\n",
    "\n",
    "# Array of five values evenly spaced\n",
    "d = np.linspace(0,1,5)\n",
    "\n",
    "# A 3x3 array of uniformly distributed random values \n",
    "# between 0 and 1\n",
    "e = np.random.random((3,3))\n",
    "\n",
    "# A 3x3 array of normally distributed random values\n",
    "# with mean 0 and standard deviation 1\n",
    "f = np.random.normal(0,1,(3,3))\n",
    "\n",
    "# A 3x3 identity matrix\n",
    "g = np.eye(3)\n",
    "\n",
    "\n",
    "print(g)"
   ]
  }
 ],
 "metadata": {
  "kernelspec": {
   "display_name": "Python 3.10.4 ('Handbook_Python_DS')",
   "language": "python",
   "name": "python3"
  },
  "language_info": {
   "codemirror_mode": {
    "name": "ipython",
    "version": 3
   },
   "file_extension": ".py",
   "mimetype": "text/x-python",
   "name": "python",
   "nbconvert_exporter": "python",
   "pygments_lexer": "ipython3",
   "version": "3.10.4"
  },
  "orig_nbformat": 4,
  "vscode": {
   "interpreter": {
    "hash": "d43d953e0acd0cedb1a9b7948f708072a1c3cac0cb47fa29a39ad05b51d390d4"
   }
  }
 },
 "nbformat": 4,
 "nbformat_minor": 2
}
